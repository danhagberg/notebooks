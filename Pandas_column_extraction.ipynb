{
 "cells": [
  {
   "cell_type": "code",
   "execution_count": 1,
   "metadata": {
    "ExecuteTime": {
     "end_time": "2019-08-28T00:21:17.431868Z",
     "start_time": "2019-08-28T00:21:17.173409Z"
    },
    "pycharm": {
     "is_executing": false
    }
   },
   "outputs": [],
   "source": [
    "import pandas as pd"
   ]
  },
  {
   "cell_type": "markdown",
   "metadata": {},
   "source": [
    "## Non-contiguous Column Extraction\n",
    "Sample code to demonstrate selection of columns from a Pandas dataframe where the desired columns are non-contiguous and indexed by position. \n",
    "\n",
    "Data is options data downloaded (using the download text link) from http://www.cboe.com/delayedquote/quote-table?ticker=AAPL. Each row contains both calls and puts with Expiration Date and Strike Price being shared.  As the column names are duplicated across the two types of options, Pandas renames the put columns by adding '.1' to the duplicated names.  After the puts are extracted, the second goal is to rename the columns to the original. "
   ]
  },
  {
   "cell_type": "code",
   "execution_count": 2,
   "metadata": {
    "ExecuteTime": {
     "end_time": "2019-08-28T00:21:17.444919Z",
     "start_time": "2019-08-28T00:21:17.433311Z"
    },
    "pycharm": {
     "is_executing": false
    }
   },
   "outputs": [],
   "source": [
    "opts = pd.read_csv('quotedata.dat', skiprows=2,)"
   ]
  },
  {
   "cell_type": "code",
   "execution_count": 3,
   "metadata": {
    "ExecuteTime": {
     "end_time": "2019-08-28T00:21:17.468463Z",
     "start_time": "2019-08-28T00:21:17.446388Z"
    },
    "pycharm": {
     "is_executing": false
    }
   },
   "outputs": [
    {
     "data": {
      "text/html": [
       "<div>\n",
       "<style scoped>\n",
       "    .dataframe tbody tr th:only-of-type {\n",
       "        vertical-align: middle;\n",
       "    }\n",
       "\n",
       "    .dataframe tbody tr th {\n",
       "        vertical-align: top;\n",
       "    }\n",
       "\n",
       "    .dataframe thead th {\n",
       "        text-align: right;\n",
       "    }\n",
       "</style>\n",
       "<table border=\"1\" class=\"dataframe\">\n",
       "  <thead>\n",
       "    <tr style=\"text-align: right;\">\n",
       "      <th></th>\n",
       "      <th>Expiration Date</th>\n",
       "      <th>Calls</th>\n",
       "      <th>Last Sale</th>\n",
       "      <th>Net</th>\n",
       "      <th>Bid</th>\n",
       "      <th>Ask</th>\n",
       "      <th>Vol</th>\n",
       "      <th>IV</th>\n",
       "      <th>Delta</th>\n",
       "      <th>Gamma</th>\n",
       "      <th>...</th>\n",
       "      <th>Puts</th>\n",
       "      <th>Last Sale.1</th>\n",
       "      <th>Net.1</th>\n",
       "      <th>Bid.1</th>\n",
       "      <th>Ask.1</th>\n",
       "      <th>Vol.1</th>\n",
       "      <th>IV.1</th>\n",
       "      <th>Delta.1</th>\n",
       "      <th>Gamma.1</th>\n",
       "      <th>Open Int.1</th>\n",
       "    </tr>\n",
       "  </thead>\n",
       "  <tbody>\n",
       "    <tr>\n",
       "      <th>0</th>\n",
       "      <td>08/30/2019</td>\n",
       "      <td>AAPL190830C00130000</td>\n",
       "      <td>72.10</td>\n",
       "      <td>-10.800</td>\n",
       "      <td>70.60</td>\n",
       "      <td>74.85</td>\n",
       "      <td>19</td>\n",
       "      <td>1.3608</td>\n",
       "      <td>0.9957</td>\n",
       "      <td>0.0004</td>\n",
       "      <td>...</td>\n",
       "      <td>AAPL190830P00130000</td>\n",
       "      <td>0.01</td>\n",
       "      <td>0.005</td>\n",
       "      <td>0.00</td>\n",
       "      <td>0.02</td>\n",
       "      <td>20</td>\n",
       "      <td>1.1790</td>\n",
       "      <td>-0.0013</td>\n",
       "      <td>0.0001</td>\n",
       "      <td>2863</td>\n",
       "    </tr>\n",
       "    <tr>\n",
       "      <th>1</th>\n",
       "      <td>08/30/2019</td>\n",
       "      <td>AAPL190830C00135000</td>\n",
       "      <td>67.35</td>\n",
       "      <td>-10.525</td>\n",
       "      <td>65.60</td>\n",
       "      <td>69.85</td>\n",
       "      <td>19</td>\n",
       "      <td>1.2539</td>\n",
       "      <td>0.9954</td>\n",
       "      <td>0.0004</td>\n",
       "      <td>...</td>\n",
       "      <td>AAPL190830P00135000</td>\n",
       "      <td>0.01</td>\n",
       "      <td>-0.005</td>\n",
       "      <td>0.00</td>\n",
       "      <td>0.06</td>\n",
       "      <td>243</td>\n",
       "      <td>1.1885</td>\n",
       "      <td>-0.0031</td>\n",
       "      <td>0.0003</td>\n",
       "      <td>836</td>\n",
       "    </tr>\n",
       "    <tr>\n",
       "      <th>2</th>\n",
       "      <td>08/30/2019</td>\n",
       "      <td>AAPL190830C00140000</td>\n",
       "      <td>70.35</td>\n",
       "      <td>0.000</td>\n",
       "      <td>60.60</td>\n",
       "      <td>64.85</td>\n",
       "      <td>0</td>\n",
       "      <td>1.1474</td>\n",
       "      <td>0.9952</td>\n",
       "      <td>0.0005</td>\n",
       "      <td>...</td>\n",
       "      <td>AAPL190830P00140000</td>\n",
       "      <td>0.02</td>\n",
       "      <td>0.005</td>\n",
       "      <td>0.01</td>\n",
       "      <td>0.07</td>\n",
       "      <td>237</td>\n",
       "      <td>1.1260</td>\n",
       "      <td>-0.0042</td>\n",
       "      <td>0.0004</td>\n",
       "      <td>431</td>\n",
       "    </tr>\n",
       "    <tr>\n",
       "      <th>3</th>\n",
       "      <td>08/30/2019</td>\n",
       "      <td>AAPL190830C00145000</td>\n",
       "      <td>0.00</td>\n",
       "      <td>0.000</td>\n",
       "      <td>55.60</td>\n",
       "      <td>59.90</td>\n",
       "      <td>0</td>\n",
       "      <td>1.0994</td>\n",
       "      <td>0.9928</td>\n",
       "      <td>0.0007</td>\n",
       "      <td>...</td>\n",
       "      <td>AAPL190830P00145000</td>\n",
       "      <td>0.04</td>\n",
       "      <td>0.025</td>\n",
       "      <td>0.02</td>\n",
       "      <td>0.04</td>\n",
       "      <td>255</td>\n",
       "      <td>0.9988</td>\n",
       "      <td>-0.0037</td>\n",
       "      <td>0.0004</td>\n",
       "      <td>453</td>\n",
       "    </tr>\n",
       "    <tr>\n",
       "      <th>4</th>\n",
       "      <td>08/30/2019</td>\n",
       "      <td>AAPL190830C00150000</td>\n",
       "      <td>53.14</td>\n",
       "      <td>-9.735</td>\n",
       "      <td>50.65</td>\n",
       "      <td>54.90</td>\n",
       "      <td>1</td>\n",
       "      <td>1.0345</td>\n",
       "      <td>0.9902</td>\n",
       "      <td>0.0010</td>\n",
       "      <td>...</td>\n",
       "      <td>AAPL190830P00150000</td>\n",
       "      <td>0.04</td>\n",
       "      <td>0.025</td>\n",
       "      <td>0.03</td>\n",
       "      <td>0.09</td>\n",
       "      <td>493</td>\n",
       "      <td>0.9789</td>\n",
       "      <td>-0.0070</td>\n",
       "      <td>0.0008</td>\n",
       "      <td>1314</td>\n",
       "    </tr>\n",
       "  </tbody>\n",
       "</table>\n",
       "<p>5 rows × 22 columns</p>\n",
       "</div>"
      ],
      "text/plain": [
       "  Expiration Date                Calls  Last Sale     Net    Bid    Ask  Vol  \\\n",
       "0      08/30/2019  AAPL190830C00130000      72.10 -10.800  70.60  74.85   19   \n",
       "1      08/30/2019  AAPL190830C00135000      67.35 -10.525  65.60  69.85   19   \n",
       "2      08/30/2019  AAPL190830C00140000      70.35   0.000  60.60  64.85    0   \n",
       "3      08/30/2019  AAPL190830C00145000       0.00   0.000  55.60  59.90    0   \n",
       "4      08/30/2019  AAPL190830C00150000      53.14  -9.735  50.65  54.90    1   \n",
       "\n",
       "       IV   Delta   Gamma  ...                 Puts  Last Sale.1  Net.1  \\\n",
       "0  1.3608  0.9957  0.0004  ...  AAPL190830P00130000         0.01  0.005   \n",
       "1  1.2539  0.9954  0.0004  ...  AAPL190830P00135000         0.01 -0.005   \n",
       "2  1.1474  0.9952  0.0005  ...  AAPL190830P00140000         0.02  0.005   \n",
       "3  1.0994  0.9928  0.0007  ...  AAPL190830P00145000         0.04  0.025   \n",
       "4  1.0345  0.9902  0.0010  ...  AAPL190830P00150000         0.04  0.025   \n",
       "\n",
       "   Bid.1  Ask.1  Vol.1    IV.1  Delta.1  Gamma.1  Open Int.1  \n",
       "0   0.00   0.02     20  1.1790  -0.0013   0.0001        2863  \n",
       "1   0.00   0.06    243  1.1885  -0.0031   0.0003         836  \n",
       "2   0.01   0.07    237  1.1260  -0.0042   0.0004         431  \n",
       "3   0.02   0.04    255  0.9988  -0.0037   0.0004         453  \n",
       "4   0.03   0.09    493  0.9789  -0.0070   0.0008        1314  \n",
       "\n",
       "[5 rows x 22 columns]"
      ]
     },
     "execution_count": 3,
     "metadata": {},
     "output_type": "execute_result"
    }
   ],
   "source": [
    "opts.head()"
   ]
  },
  {
   "cell_type": "code",
   "execution_count": 4,
   "metadata": {
    "ExecuteTime": {
     "end_time": "2019-08-28T00:21:17.471564Z",
     "start_time": "2019-08-28T00:21:17.469740Z"
    },
    "pycharm": {
     "is_executing": false
    }
   },
   "outputs": [],
   "source": [
    "cols = opts.columns"
   ]
  },
  {
   "cell_type": "code",
   "execution_count": 5,
   "metadata": {
    "ExecuteTime": {
     "end_time": "2019-08-28T00:21:17.477188Z",
     "start_time": "2019-08-28T00:21:17.472908Z"
    }
   },
   "outputs": [
    {
     "name": "stdout",
     "output_type": "stream",
     "text": [
      " 0 : Expiration Date\n",
      " 1 : Calls\n",
      " 2 : Last Sale\n",
      " 3 : Net\n",
      " 4 : Bid\n",
      " 5 : Ask\n",
      " 6 : Vol\n",
      " 7 : IV\n",
      " 8 : Delta\n",
      " 9 : Gamma\n",
      "10 : Open Int\n",
      "11 : Strike\n",
      "12 : Puts\n",
      "13 : Last Sale.1\n",
      "14 : Net.1\n",
      "15 : Bid.1\n",
      "16 : Ask.1\n",
      "17 : Vol.1\n",
      "18 : IV.1\n",
      "19 : Delta.1\n",
      "20 : Gamma.1\n",
      "21 : Open Int.1\n"
     ]
    }
   ],
   "source": [
    "for index, column in enumerate(cols):\n",
    "    print('{:>2} : {}'.format(index,column))"
   ]
  },
  {
   "cell_type": "markdown",
   "metadata": {},
   "source": [
    "### Create a list of column names for each type of option"
   ]
  },
  {
   "cell_type": "code",
   "execution_count": 6,
   "metadata": {
    "ExecuteTime": {
     "end_time": "2019-08-28T00:21:17.480911Z",
     "start_time": "2019-08-28T00:21:17.478297Z"
    },
    "pycharm": {
     "is_executing": false
    }
   },
   "outputs": [],
   "source": [
    "call_cols = [*cols[:2], cols[11], *cols[2:11]]\n",
    "put_cols = [cols[0], cols[12], cols[11], *cols[13:]]"
   ]
  },
  {
   "cell_type": "markdown",
   "metadata": {},
   "source": [
    "### Create new data frames for each type of option"
   ]
  },
  {
   "cell_type": "code",
   "execution_count": 7,
   "metadata": {
    "ExecuteTime": {
     "end_time": "2019-08-28T00:21:17.486244Z",
     "start_time": "2019-08-28T00:21:17.482411Z"
    },
    "pycharm": {
     "is_executing": false
    }
   },
   "outputs": [],
   "source": [
    "calls = opts[call_cols]\n",
    "puts = opts[put_cols]"
   ]
  },
  {
   "cell_type": "code",
   "execution_count": 8,
   "metadata": {
    "ExecuteTime": {
     "end_time": "2019-08-28T00:21:17.497866Z",
     "start_time": "2019-08-28T00:21:17.487431Z"
    },
    "pycharm": {
     "is_executing": false
    }
   },
   "outputs": [
    {
     "data": {
      "text/html": [
       "<div>\n",
       "<style scoped>\n",
       "    .dataframe tbody tr th:only-of-type {\n",
       "        vertical-align: middle;\n",
       "    }\n",
       "\n",
       "    .dataframe tbody tr th {\n",
       "        vertical-align: top;\n",
       "    }\n",
       "\n",
       "    .dataframe thead th {\n",
       "        text-align: right;\n",
       "    }\n",
       "</style>\n",
       "<table border=\"1\" class=\"dataframe\">\n",
       "  <thead>\n",
       "    <tr style=\"text-align: right;\">\n",
       "      <th></th>\n",
       "      <th>Expiration Date</th>\n",
       "      <th>Calls</th>\n",
       "      <th>Strike</th>\n",
       "      <th>Last Sale</th>\n",
       "      <th>Net</th>\n",
       "      <th>Bid</th>\n",
       "      <th>Ask</th>\n",
       "      <th>Vol</th>\n",
       "      <th>IV</th>\n",
       "      <th>Delta</th>\n",
       "      <th>Gamma</th>\n",
       "      <th>Open Int</th>\n",
       "    </tr>\n",
       "  </thead>\n",
       "  <tbody>\n",
       "    <tr>\n",
       "      <th>0</th>\n",
       "      <td>08/30/2019</td>\n",
       "      <td>AAPL190830C00130000</td>\n",
       "      <td>130.0</td>\n",
       "      <td>72.10</td>\n",
       "      <td>-10.800</td>\n",
       "      <td>70.60</td>\n",
       "      <td>74.85</td>\n",
       "      <td>19</td>\n",
       "      <td>1.3608</td>\n",
       "      <td>0.9957</td>\n",
       "      <td>0.0004</td>\n",
       "      <td>44</td>\n",
       "    </tr>\n",
       "    <tr>\n",
       "      <th>1</th>\n",
       "      <td>08/30/2019</td>\n",
       "      <td>AAPL190830C00135000</td>\n",
       "      <td>135.0</td>\n",
       "      <td>67.35</td>\n",
       "      <td>-10.525</td>\n",
       "      <td>65.60</td>\n",
       "      <td>69.85</td>\n",
       "      <td>19</td>\n",
       "      <td>1.2539</td>\n",
       "      <td>0.9954</td>\n",
       "      <td>0.0004</td>\n",
       "      <td>6</td>\n",
       "    </tr>\n",
       "    <tr>\n",
       "      <th>2</th>\n",
       "      <td>08/30/2019</td>\n",
       "      <td>AAPL190830C00140000</td>\n",
       "      <td>140.0</td>\n",
       "      <td>70.35</td>\n",
       "      <td>0.000</td>\n",
       "      <td>60.60</td>\n",
       "      <td>64.85</td>\n",
       "      <td>0</td>\n",
       "      <td>1.1474</td>\n",
       "      <td>0.9952</td>\n",
       "      <td>0.0005</td>\n",
       "      <td>7</td>\n",
       "    </tr>\n",
       "    <tr>\n",
       "      <th>3</th>\n",
       "      <td>08/30/2019</td>\n",
       "      <td>AAPL190830C00145000</td>\n",
       "      <td>145.0</td>\n",
       "      <td>0.00</td>\n",
       "      <td>0.000</td>\n",
       "      <td>55.60</td>\n",
       "      <td>59.90</td>\n",
       "      <td>0</td>\n",
       "      <td>1.0994</td>\n",
       "      <td>0.9928</td>\n",
       "      <td>0.0007</td>\n",
       "      <td>0</td>\n",
       "    </tr>\n",
       "    <tr>\n",
       "      <th>4</th>\n",
       "      <td>08/30/2019</td>\n",
       "      <td>AAPL190830C00150000</td>\n",
       "      <td>150.0</td>\n",
       "      <td>53.14</td>\n",
       "      <td>-9.735</td>\n",
       "      <td>50.65</td>\n",
       "      <td>54.90</td>\n",
       "      <td>1</td>\n",
       "      <td>1.0345</td>\n",
       "      <td>0.9902</td>\n",
       "      <td>0.0010</td>\n",
       "      <td>4</td>\n",
       "    </tr>\n",
       "  </tbody>\n",
       "</table>\n",
       "</div>"
      ],
      "text/plain": [
       "  Expiration Date                Calls  Strike  Last Sale     Net    Bid  \\\n",
       "0      08/30/2019  AAPL190830C00130000   130.0      72.10 -10.800  70.60   \n",
       "1      08/30/2019  AAPL190830C00135000   135.0      67.35 -10.525  65.60   \n",
       "2      08/30/2019  AAPL190830C00140000   140.0      70.35   0.000  60.60   \n",
       "3      08/30/2019  AAPL190830C00145000   145.0       0.00   0.000  55.60   \n",
       "4      08/30/2019  AAPL190830C00150000   150.0      53.14  -9.735  50.65   \n",
       "\n",
       "     Ask  Vol      IV   Delta   Gamma  Open Int  \n",
       "0  74.85   19  1.3608  0.9957  0.0004        44  \n",
       "1  69.85   19  1.2539  0.9954  0.0004         6  \n",
       "2  64.85    0  1.1474  0.9952  0.0005         7  \n",
       "3  59.90    0  1.0994  0.9928  0.0007         0  \n",
       "4  54.90    1  1.0345  0.9902  0.0010         4  "
      ]
     },
     "execution_count": 8,
     "metadata": {},
     "output_type": "execute_result"
    }
   ],
   "source": [
    "calls.head()"
   ]
  },
  {
   "cell_type": "markdown",
   "metadata": {},
   "source": [
    "### Extract the call column names for the duplicated columns"
   ]
  },
  {
   "cell_type": "code",
   "execution_count": 9,
   "metadata": {
    "ExecuteTime": {
     "end_time": "2019-08-28T00:21:17.501038Z",
     "start_time": "2019-08-28T00:21:17.499296Z"
    },
    "pycharm": {
     "is_executing": false
    }
   },
   "outputs": [],
   "source": [
    "rename_cols = call_cols[3:]"
   ]
  },
  {
   "cell_type": "markdown",
   "metadata": {},
   "source": [
    "### Rename the put column names using those extracted from the calls"
   ]
  },
  {
   "cell_type": "code",
   "execution_count": 10,
   "metadata": {
    "ExecuteTime": {
     "end_time": "2019-08-28T00:21:17.505022Z",
     "start_time": "2019-08-28T00:21:17.502665Z"
    },
    "pycharm": {
     "is_executing": false
    }
   },
   "outputs": [],
   "source": [
    "puts.columns = [*puts.columns[:3], *rename_cols]"
   ]
  },
  {
   "cell_type": "code",
   "execution_count": 11,
   "metadata": {
    "ExecuteTime": {
     "end_time": "2019-08-28T00:21:17.516818Z",
     "start_time": "2019-08-28T00:21:17.506411Z"
    },
    "pycharm": {
     "is_executing": false
    }
   },
   "outputs": [
    {
     "data": {
      "text/html": [
       "<div>\n",
       "<style scoped>\n",
       "    .dataframe tbody tr th:only-of-type {\n",
       "        vertical-align: middle;\n",
       "    }\n",
       "\n",
       "    .dataframe tbody tr th {\n",
       "        vertical-align: top;\n",
       "    }\n",
       "\n",
       "    .dataframe thead th {\n",
       "        text-align: right;\n",
       "    }\n",
       "</style>\n",
       "<table border=\"1\" class=\"dataframe\">\n",
       "  <thead>\n",
       "    <tr style=\"text-align: right;\">\n",
       "      <th></th>\n",
       "      <th>Expiration Date</th>\n",
       "      <th>Puts</th>\n",
       "      <th>Strike</th>\n",
       "      <th>Last Sale</th>\n",
       "      <th>Net</th>\n",
       "      <th>Bid</th>\n",
       "      <th>Ask</th>\n",
       "      <th>Vol</th>\n",
       "      <th>IV</th>\n",
       "      <th>Delta</th>\n",
       "      <th>Gamma</th>\n",
       "      <th>Open Int</th>\n",
       "    </tr>\n",
       "  </thead>\n",
       "  <tbody>\n",
       "    <tr>\n",
       "      <th>0</th>\n",
       "      <td>08/30/2019</td>\n",
       "      <td>AAPL190830P00130000</td>\n",
       "      <td>130.0</td>\n",
       "      <td>0.01</td>\n",
       "      <td>0.005</td>\n",
       "      <td>0.00</td>\n",
       "      <td>0.02</td>\n",
       "      <td>20</td>\n",
       "      <td>1.1790</td>\n",
       "      <td>-0.0013</td>\n",
       "      <td>0.0001</td>\n",
       "      <td>2863</td>\n",
       "    </tr>\n",
       "    <tr>\n",
       "      <th>1</th>\n",
       "      <td>08/30/2019</td>\n",
       "      <td>AAPL190830P00135000</td>\n",
       "      <td>135.0</td>\n",
       "      <td>0.01</td>\n",
       "      <td>-0.005</td>\n",
       "      <td>0.00</td>\n",
       "      <td>0.06</td>\n",
       "      <td>243</td>\n",
       "      <td>1.1885</td>\n",
       "      <td>-0.0031</td>\n",
       "      <td>0.0003</td>\n",
       "      <td>836</td>\n",
       "    </tr>\n",
       "    <tr>\n",
       "      <th>2</th>\n",
       "      <td>08/30/2019</td>\n",
       "      <td>AAPL190830P00140000</td>\n",
       "      <td>140.0</td>\n",
       "      <td>0.02</td>\n",
       "      <td>0.005</td>\n",
       "      <td>0.01</td>\n",
       "      <td>0.07</td>\n",
       "      <td>237</td>\n",
       "      <td>1.1260</td>\n",
       "      <td>-0.0042</td>\n",
       "      <td>0.0004</td>\n",
       "      <td>431</td>\n",
       "    </tr>\n",
       "    <tr>\n",
       "      <th>3</th>\n",
       "      <td>08/30/2019</td>\n",
       "      <td>AAPL190830P00145000</td>\n",
       "      <td>145.0</td>\n",
       "      <td>0.04</td>\n",
       "      <td>0.025</td>\n",
       "      <td>0.02</td>\n",
       "      <td>0.04</td>\n",
       "      <td>255</td>\n",
       "      <td>0.9988</td>\n",
       "      <td>-0.0037</td>\n",
       "      <td>0.0004</td>\n",
       "      <td>453</td>\n",
       "    </tr>\n",
       "    <tr>\n",
       "      <th>4</th>\n",
       "      <td>08/30/2019</td>\n",
       "      <td>AAPL190830P00150000</td>\n",
       "      <td>150.0</td>\n",
       "      <td>0.04</td>\n",
       "      <td>0.025</td>\n",
       "      <td>0.03</td>\n",
       "      <td>0.09</td>\n",
       "      <td>493</td>\n",
       "      <td>0.9789</td>\n",
       "      <td>-0.0070</td>\n",
       "      <td>0.0008</td>\n",
       "      <td>1314</td>\n",
       "    </tr>\n",
       "  </tbody>\n",
       "</table>\n",
       "</div>"
      ],
      "text/plain": [
       "  Expiration Date                 Puts  Strike  Last Sale    Net   Bid   Ask  \\\n",
       "0      08/30/2019  AAPL190830P00130000   130.0       0.01  0.005  0.00  0.02   \n",
       "1      08/30/2019  AAPL190830P00135000   135.0       0.01 -0.005  0.00  0.06   \n",
       "2      08/30/2019  AAPL190830P00140000   140.0       0.02  0.005  0.01  0.07   \n",
       "3      08/30/2019  AAPL190830P00145000   145.0       0.04  0.025  0.02  0.04   \n",
       "4      08/30/2019  AAPL190830P00150000   150.0       0.04  0.025  0.03  0.09   \n",
       "\n",
       "   Vol      IV   Delta   Gamma  Open Int  \n",
       "0   20  1.1790 -0.0013  0.0001      2863  \n",
       "1  243  1.1885 -0.0031  0.0003       836  \n",
       "2  237  1.1260 -0.0042  0.0004       431  \n",
       "3  255  0.9988 -0.0037  0.0004       453  \n",
       "4  493  0.9789 -0.0070  0.0008      1314  "
      ]
     },
     "execution_count": 11,
     "metadata": {},
     "output_type": "execute_result"
    }
   ],
   "source": [
    "puts.head()"
   ]
  }
 ],
 "metadata": {
  "kernelspec": {
   "display_name": "Python 3",
   "language": "python",
   "name": "python3"
  },
  "language_info": {
   "codemirror_mode": {
    "name": "ipython",
    "version": 3
   },
   "file_extension": ".py",
   "mimetype": "text/x-python",
   "name": "python",
   "nbconvert_exporter": "python",
   "pygments_lexer": "ipython3",
   "version": "3.7.3"
  },
  "pycharm": {
   "stem_cell": {
    "cell_type": "raw",
    "metadata": {
     "collapsed": false
    },
    "source": []
   }
  },
  "varInspector": {
   "cols": {
    "lenName": 16,
    "lenType": 16,
    "lenVar": 40
   },
   "kernels_config": {
    "python": {
     "delete_cmd_postfix": "",
     "delete_cmd_prefix": "del ",
     "library": "var_list.py",
     "varRefreshCmd": "print(var_dic_list())"
    },
    "r": {
     "delete_cmd_postfix": ") ",
     "delete_cmd_prefix": "rm(",
     "library": "var_list.r",
     "varRefreshCmd": "cat(var_dic_list()) "
    }
   },
   "types_to_exclude": [
    "module",
    "function",
    "builtin_function_or_method",
    "instance",
    "_Feature"
   ],
   "window_display": false
  }
 },
 "nbformat": 4,
 "nbformat_minor": 2
}
